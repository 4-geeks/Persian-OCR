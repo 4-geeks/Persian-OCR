{
 "cells": [
  {
   "cell_type": "markdown",
   "metadata": {},
   "source": [
    "# English"
   ]
  },
  {
   "cell_type": "code",
   "execution_count": null,
   "metadata": {},
   "outputs": [],
   "source": [
    "from PIL import Image, ImageDraw, ImageFont\n",
    "import numpy as np\n",
    "import matplotlib.pyplot as plt"
   ]
  },
  {
   "cell_type": "code",
   "execution_count": null,
   "metadata": {},
   "outputs": [],
   "source": [
    "background = np.ones((80,200,3) , dtype = 'uint8') * 200\n",
    "background = Image.fromarray(background)"
   ]
  },
  {
   "cell_type": "code",
   "execution_count": null,
   "metadata": {},
   "outputs": [],
   "source": [
    "draw = ImageDraw.Draw(background)"
   ]
  },
  {
   "cell_type": "code",
   "execution_count": null,
   "metadata": {},
   "outputs": [],
   "source": [
    "background"
   ]
  },
  {
   "cell_type": "code",
   "execution_count": null,
   "metadata": {},
   "outputs": [],
   "source": [
    "draw"
   ]
  },
  {
   "cell_type": "code",
   "execution_count": null,
   "metadata": {},
   "outputs": [],
   "source": [
    "font = ImageFont.truetype('Redressed-Regular.ttf', size=45)"
   ]
  },
  {
   "cell_type": "code",
   "execution_count": null,
   "metadata": {},
   "outputs": [],
   "source": [
    "font"
   ]
  },
  {
   "cell_type": "code",
   "execution_count": null,
   "metadata": {},
   "outputs": [],
   "source": [
    "message = \"سلام\"\n",
    "color = (0,0,128)"
   ]
  },
  {
   "cell_type": "code",
   "execution_count": null,
   "metadata": {},
   "outputs": [],
   "source": [
    "(x, y) = (30, 20)\n",
    "draw.text((x, y), message, fill=color, font=font, direction='rtl')"
   ]
  },
  {
   "cell_type": "code",
   "execution_count": null,
   "metadata": {
    "scrolled": true
   },
   "outputs": [],
   "source": [
    "background"
   ]
  },
  {
   "cell_type": "code",
   "execution_count": null,
   "metadata": {},
   "outputs": [],
   "source": []
  },
  {
   "cell_type": "markdown",
   "metadata": {},
   "source": [
    "# Persian"
   ]
  },
  {
   "cell_type": "code",
   "execution_count": null,
   "metadata": {},
   "outputs": [],
   "source": [
    "import numpy as np\n",
    "import matplotlib.pyplot as plt\n",
    "import PIL\n",
    "import arabic_reshaper\n",
    "from PIL import Image, ImageDraw, ImageFont\n",
    "from bidi.algorithm import get_display"
   ]
  },
  {
   "cell_type": "code",
   "execution_count": null,
   "metadata": {},
   "outputs": [],
   "source": [
    "background = np.ones((80,400,3) , dtype = 'uint8') * (255,255,255)\n",
    "background = background.astype('uint8')\n",
    "background = Image.fromarray(background)\n",
    "draw = ImageDraw.Draw(background)\n",
    "font = ImageFont.truetype('fonts/IranNastaliq.ttf', size=60)\n",
    "raw_test = 'سلام'\n",
    "background"
   ]
  },
  {
   "cell_type": "code",
   "execution_count": null,
   "metadata": {},
   "outputs": [],
   "source": [
    "reshaped_text = arabic_reshaper.reshape(raw_test)\n",
    "bidi_text = get_display(reshaped_text)\n",
    "color = (0,0,128)\n",
    "(x, y) = (200, 40)\n",
    "draw.text((x, y), bidi_text, fill=color, font=font, anchor='mm')\n",
    "background"
   ]
  },
  {
   "cell_type": "code",
   "execution_count": null,
   "metadata": {},
   "outputs": [],
   "source": []
  },
  {
   "cell_type": "markdown",
   "metadata": {},
   "source": [
    "# Dataset Creation"
   ]
  },
  {
   "cell_type": "code",
   "execution_count": null,
   "metadata": {},
   "outputs": [],
   "source": [
    "import numpy as np\n",
    "import PIL\n",
    "import arabic_reshaper\n",
    "from PIL import Image, ImageDraw, ImageFont, ImageFilter, ImageEnhance\n",
    "from bidi.algorithm import get_display\n",
    "import os\n",
    "from glob import glob\n",
    "import cv2\n",
    "from tqdm import tqdm\n",
    "import sys\n",
    "from time import time as t\n",
    "from PIL import ImageEnhance\n",
    "if 'ipykernel' in sys.modules:\n",
    "    from tqdm.notebook import tqdm\n",
    "    %matplotlib inline\n",
    "else:\n",
    "    from qtdm import tqdm"
   ]
  },
  {
   "cell_type": "code",
   "execution_count": null,
   "metadata": {},
   "outputs": [],
   "source": [
    "def create_word(word, font_name, offsets = (0,0) , bg = None ,shift = True ,size = 60, color = None , bg_size = (100,300), bg_color = (200)):\n",
    "    if bg is None:\n",
    "        bg_size = np.array(bg_size).astype(int)\n",
    "        background = np.ones((*bg_size,3) , dtype = 'uint8') * bg_color\n",
    "        background = background.astype('uint8')\n",
    "        background = Image.fromarray(background)\n",
    "    else : background = bg\n",
    "    \n",
    "    if color is None:\n",
    "        color = tuple(np.random.randint(low = 0, high = 70, size = 3))\n",
    "    \n",
    "    draw = ImageDraw.Draw(background)\n",
    "    font = ImageFont.truetype(font_name, size=size)\n",
    "    reshaped_text = arabic_reshaper.reshape(word)\n",
    "    bidi_text = get_display(reshaped_text)\n",
    "    o_x_offset, o_y_offset = offsets\n",
    "#     print(background.size)\n",
    "#     print(o_x_offset,o_y_offset)\n",
    "    o_x_offset = -int(o_x_offset * background.size[0])\n",
    "    o_y_offset = -int(o_y_offset * background.size[1])\n",
    "#     print(o_x_offset,o_y_offset)\n",
    "    x, y = background.size[0]//2 + o_x_offset ,background.size[1]//2 + o_y_offset\n",
    "    if shift:\n",
    "        x = x + int(np.random.randint(low = -background.size[0]//30, high = background.size[0]//30, size = 1))\n",
    "        y = y + int(np.random.randint(low = -background.size[1]//30, high = background.size[1]//30, size = 1))\n",
    "    draw.text((x, y), bidi_text, fill=color, font=font, anchor = 'mm')\n",
    "    return background"
   ]
  },
  {
   "cell_type": "code",
   "execution_count": null,
   "metadata": {},
   "outputs": [],
   "source": [
    "def get_all_fonts(fonts_dir):\n",
    "    fonts_names = glob(os.path.join(fonts_dir , '*ttf'))\n",
    "#     print(f'Found {len(fonts_names)} fonts in the given directory')\n",
    "    return fonts_names"
   ]
  },
  {
   "cell_type": "code",
   "execution_count": null,
   "metadata": {},
   "outputs": [],
   "source": [
    "def get_all_bgs(bgs_dir):\n",
    "    bgs_names = glob(os.path.join(bgs_dir , '*'))\n",
    "#     print(f'Found {len(bgs_names)} backgrounds in the given directory')\n",
    "    all_imgs = []\n",
    "    for bg_name in bgs_names:\n",
    "        bg = cv2.imread(bg_name)[...,::-1]\n",
    "        all_imgs.append(bg)\n",
    "    return all_imgs"
   ]
  },
  {
   "cell_type": "code",
   "execution_count": null,
   "metadata": {},
   "outputs": [],
   "source": []
  },
  {
   "cell_type": "code",
   "execution_count": null,
   "metadata": {},
   "outputs": [],
   "source": [
    "def get_all_words(corpuses_dir):\n",
    "    all_words = []\n",
    "    corpus_names = glob(os.path.join(corpuses_dir , '*txt'))\n",
    "    print(f'There are {len(corpus_names)} text files in the corpus')\n",
    "    for txt_file in corpus_names:\n",
    "        file = open(txt_file)\n",
    "        lines = file.read()\n",
    "        all_words.extend(lines.split('\\n'))\n",
    "#     print(f'Found {len(all_words)} words in the dataset.')\n",
    "    all_words = list(filter(lambda x:len(x), all_words))\n",
    "    return all_words"
   ]
  },
  {
   "cell_type": "code",
   "execution_count": null,
   "metadata": {},
   "outputs": [],
   "source": []
  },
  {
   "cell_type": "code",
   "execution_count": null,
   "metadata": {},
   "outputs": [],
   "source": [
    "def img_to_bbx(img):\n",
    "    img = np.array(img)\n",
    "    args = np.argwhere(img[...,0]>0)\n",
    "    y_max, x_max = np.max(args,0)\n",
    "    y_min, x_min = np.min(args,0)\n",
    "#     plt.imshow(img[y_min:y_max, x_min:x_max,:])\n",
    "#     plt.imshow(img)\n",
    "    bbx = (x_min,x_max), (y_min, y_max)\n",
    "#     print(y_min,y_max)\n",
    "    o_x_offset = ((x_min + x_max) / img.shape[1] ) - 1\n",
    "    o_y_offset = ((y_min + y_max) / img.shape[0] ) - 1\n",
    "    offsets = [o_x_offset , o_y_offset]\n",
    "#     print(o_x_offset,o_y_offset)\n",
    "    sizes = np.array((y_max- y_min, x_max - x_min))\n",
    "    return offsets, sizes\n",
    "\n",
    "def get_rect_size_for_word(word, font, size, bg_size = None):\n",
    "    if bg_size is None:\n",
    "        bg_size = (400, 70 * len(word))\n",
    "        bg_size = tuple((np.array(bg_size) * (size / 100)).astype(int))\n",
    "    img = create_word(word, font_name = font,shift = False, size = size, color = (255,255,255), \n",
    "                bg_size = bg_size, bg_color = (0,0,0))\n",
    "    return img_to_bbx(img)"
   ]
  },
  {
   "cell_type": "code",
   "execution_count": null,
   "metadata": {},
   "outputs": [],
   "source": [
    "def resize_bg(backgroud_img, target_size, x_factor = None, y_factor = None):\n",
    "    bg  = backgroud_img.copy()\n",
    "    y,x = target_size.astype(int)\n",
    "    if x_factor is None:\n",
    "        x_factor = 1.1 + np.random.rand() / 6\n",
    "    if y_factor is None:\n",
    "        y_factor = 1.2 + np.random.rand() / 4\n",
    "    x = int(x*x_factor)\n",
    "    y = int(y*y_factor)       \n",
    "    bg  = cv2.resize(bg, (x,y))\n",
    "    bg = Image.fromarray(bg)\n",
    "    return bg"
   ]
  },
  {
   "cell_type": "code",
   "execution_count": null,
   "metadata": {},
   "outputs": [],
   "source": [
    "def augment(img, p = 0.5):\n",
    "    filters = [ImageFilter.GaussianBlur(), ImageFilter.SHARPEN()]\n",
    "    epsilon = np.random.rand(1)\n",
    "    if epsilon < p:\n",
    "        epsilon = int(epsilon * len(filters))\n",
    "        f = filters[epsilon]\n",
    "        if f.name == 'GaussianBlur':\n",
    "            f.radius = np.random.rand(1) * 1.5\n",
    "        img = img.filter(f)\n",
    "        \n",
    "        epsilon = np.random.rand(1)\n",
    "        if epsilon < 0.4:\n",
    "            img = img.rotate(np.random.randint(-4,4,1))\n",
    "\n",
    "        epsilon = np.random.rand(1)\n",
    "        if epsilon < 0.4:\n",
    "            img = ImageEnhance.Contrast(img).enhance(np.random.rand(1) + 0.5)\n",
    "    \n",
    "    return img"
   ]
  },
  {
   "cell_type": "code",
   "execution_count": null,
   "metadata": {},
   "outputs": [],
   "source": [
    "def create_data_set(words, fonts, bgs ,size = None, noise_p = 0.5 ,output_dir = 'outputs/'):\n",
    "    t1 = t()\n",
    "    counter = 0\n",
    "    os.makedirs(output_dir , exist_ok = True)\n",
    "    print('Output directory craeted.')\n",
    "    assert isinstance(words, str) or isinstance(all_words, list) , \"words argument should be either list or str\"\n",
    "    if isinstance(words, str):\n",
    "        words = get_all_words(words)\n",
    "    assert isinstance(fonts, str) or isinstance(fonts, list)  , \"fonts argument should be either list or str\"\n",
    "    if isinstance(fonts, str):\n",
    "        fonts = get_all_fonts(fonts)\n",
    "    assert isinstance(bgs, str) or isinstance(bgs, list)  , \"bgs argument should be either list or str\"\n",
    "    if isinstance(bgs, str):\n",
    "        bgs = get_all_bgs(bgs)\n",
    "    print(f'Found {len(words)} words.')\n",
    "    print(f'Found {len(fonts)} fonts.')\n",
    "    print(f'Found {len(bgs)} background images.')\n",
    "    print(f'In total {len(words) * len(fonts) * len(bgs)} Images will be created')\n",
    "    for w_idx, word in enumerate(tqdm(words)):\n",
    "        for f_idx, font in enumerate(fonts):\n",
    "            for bg_idx, bg in enumerate(bgs):\n",
    "                if isinstance(size, int):\n",
    "                    pass\n",
    "                elif isinstance(size, list):\n",
    "                    size = np.random.choice(size)\n",
    "                elif size == 'random' or size is None:\n",
    "                    size = int(np.random.randint(110,150,1))\n",
    "                    \n",
    "                bbx, sizes = get_rect_size_for_word(word, font, size)\n",
    "                bg = resize_bg(bg, sizes)\n",
    "                img = create_word(word, font_name= font,bg = bg, size= int(size//1.0))\n",
    "                img = augment(img, p = noise_p)\n",
    "                img.save(os.path.join(output_dir , f'w_{w_idx:04d}f_{f_idx:04d}b_{bg_idx:04d}.png' ))\n",
    "                counter += 1\n",
    "    print(f'{counter} Images created')\n",
    "    t2 = t()\n",
    "    print(f'Time Taken : {np.round(t2-t1,2)} second')"
   ]
  },
  {
   "cell_type": "code",
   "execution_count": null,
   "metadata": {
    "scrolled": true
   },
   "outputs": [],
   "source": [
    "create_data_set('word_bank/','fonts/', 'backgrounds/', size = None)"
   ]
  },
  {
   "cell_type": "code",
   "execution_count": null,
   "metadata": {
    "scrolled": true
   },
   "outputs": [],
   "source": [
    "all_words = get_all_words('word_bank/')\n",
    "all_fonts = get_all_fonts('fonts/')\n",
    "all_bgs   = get_all_bgs('backgrounds/')"
   ]
  },
  {
   "cell_type": "code",
   "execution_count": null,
   "metadata": {},
   "outputs": [],
   "source": [
    "output_dir = 'outputs/'\n",
    "os.makedirs(output_dir , exist_ok = True)"
   ]
  },
  {
   "cell_type": "code",
   "execution_count": null,
   "metadata": {
    "scrolled": false
   },
   "outputs": [],
   "source": [
    "all_fonts"
   ]
  },
  {
   "cell_type": "code",
   "execution_count": null,
   "metadata": {},
   "outputs": [],
   "source": [
    "def get_rect_size_for_word(word, font, size, bg_size = (400,1000)):\n",
    "    img = create_word(word, font_name = font, size = size, color = (255,255,255), \n",
    "                bg_size = bg_size, bg_color = (0,0,0))\n",
    "    return img_to_bbx(img)\n",
    "\n",
    "def img_to_bbx(img):\n",
    "    img = np.array(img)\n",
    "    args = np.argwhere(img[...,0]>0)\n",
    "    y_max, x_max = np.max(args,0)\n",
    "    y_min, x_min = np.min(args,0)\n",
    "#     plt.imshow(img[y_min:y_max, x_min:x_max,:])\n",
    "#     plt.imshow(img)\n",
    "    bbx = (x_min,x_max), (y_min, y_max)\n",
    "#     print(y_min,y_max)\n",
    "    o_x_offset = ((x_min + x_max) / img.shape[1] ) - 1\n",
    "    o_y_offset = ((y_min + y_max) / img.shape[0] ) - 1\n",
    "    offsets = [o_x_offset , o_y_offset]\n",
    "#     print(o_x_offset,o_y_offset)\n",
    "    sizes = np.array((y_max- y_min, x_max - x_min))\n",
    "    return offsets, sizes"
   ]
  },
  {
   "cell_type": "code",
   "execution_count": null,
   "metadata": {},
   "outputs": [],
   "source": [
    "create_word(word, font_name = all_fonts[0], size = size, color = (255,255,255)"
   ]
  },
  {
   "cell_type": "code",
   "execution_count": null,
   "metadata": {
    "scrolled": false
   },
   "outputs": [],
   "source": [
    "i = 1\n",
    "f = 1\n",
    "b = 0\n",
    "size = 100\n",
    "offsets, sizes = get_rect_size_for_word(all_words[i], all_fonts[f], size = size)\n",
    "bg = all_bgs[b].copy()\n",
    "bg = resize_bg(bg, sizes)\n",
    "# print(sizes)\n",
    "img = create_word(all_words[i],shift = True, offsets=offsets, font_name= all_fonts[f] ,bg = bg, size= int(size//1.0))\n",
    "img"
   ]
  },
  {
   "cell_type": "code",
   "execution_count": null,
   "metadata": {},
   "outputs": [],
   "source": []
  },
  {
   "cell_type": "code",
   "execution_count": null,
   "metadata": {},
   "outputs": [],
   "source": []
  },
  {
   "cell_type": "markdown",
   "metadata": {},
   "source": [
    "# Backgrounds"
   ]
  },
  {
   "cell_type": "code",
   "execution_count": null,
   "metadata": {},
   "outputs": [],
   "source": [
    "import seaborn as sns\n",
    "sns.heatmap(img_arr[...,0])"
   ]
  },
  {
   "cell_type": "code",
   "execution_count": null,
   "metadata": {
    "scrolled": true
   },
   "outputs": [],
   "source": [
    "plt.imshow(img_arr)"
   ]
  },
  {
   "cell_type": "code",
   "execution_count": null,
   "metadata": {},
   "outputs": [],
   "source": []
  },
  {
   "cell_type": "code",
   "execution_count": null,
   "metadata": {},
   "outputs": [],
   "source": [
    "from skimage import io\n",
    "from skimage import transform as tf\n",
    "afine_tf = tf.AffineTransform(shear=0.7)\n",
    "modified = tf.warp(img_arr, inverse_map = afine_tf)*255\n",
    "modified = modified.astype('uint8')\n",
    "plt.imshow(modified)"
   ]
  },
  {
   "cell_type": "code",
   "execution_count": null,
   "metadata": {},
   "outputs": [],
   "source": [
    "modified.shape"
   ]
  },
  {
   "cell_type": "code",
   "execution_count": null,
   "metadata": {},
   "outputs": [],
   "source": [
    "bg = np.ones((100,150,3)) * (250,250,250)\n",
    "bg = bg.astype('uint8')\n",
    "# plt.imshow(bg)"
   ]
  },
  {
   "cell_type": "code",
   "execution_count": null,
   "metadata": {},
   "outputs": [],
   "source": [
    "np.unique(bg)"
   ]
  },
  {
   "cell_type": "code",
   "execution_count": null,
   "metadata": {},
   "outputs": [],
   "source": [
    "modified = modified.astype('uint8')\n",
    "modified[modified == [0,0,0]] = bg[img_arr == [0,0,0]] \n",
    "modified = modified.astype('uint8')"
   ]
  },
  {
   "cell_type": "code",
   "execution_count": null,
   "metadata": {},
   "outputs": [],
   "source": [
    "bg[modified != [0,0,0]] = modified[modified != [0,0,0]] \n",
    "bg = bg.astype('uint8')"
   ]
  },
  {
   "cell_type": "code",
   "execution_count": null,
   "metadata": {},
   "outputs": [],
   "source": [
    "plt.imshow(modified)"
   ]
  },
  {
   "cell_type": "code",
   "execution_count": null,
   "metadata": {},
   "outputs": [],
   "source": [
    "plt.imshow(bg + modified)"
   ]
  },
  {
   "cell_type": "code",
   "execution_count": null,
   "metadata": {},
   "outputs": [],
   "source": []
  }
 ],
 "metadata": {
  "kernelspec": {
   "display_name": "Python 3",
   "language": "python",
   "name": "python3"
  },
  "language_info": {
   "codemirror_mode": {
    "name": "ipython",
    "version": 3
   },
   "file_extension": ".py",
   "mimetype": "text/x-python",
   "name": "python",
   "nbconvert_exporter": "python",
   "pygments_lexer": "ipython3",
   "version": "3.8.5"
  }
 },
 "nbformat": 4,
 "nbformat_minor": 4
}
