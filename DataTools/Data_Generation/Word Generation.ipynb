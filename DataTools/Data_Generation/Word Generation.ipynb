{
 "cells": [
  {
   "cell_type": "markdown",
   "metadata": {},
   "source": [
    "# English"
   ]
  },
  {
   "cell_type": "code",
   "execution_count": null,
   "metadata": {},
   "outputs": [],
   "source": [
    "from PIL import Image, ImageDraw, ImageFont\n",
    "import numpy as np\n",
    "import matplotlib.pyplot as plt"
   ]
  },
  {
   "cell_type": "code",
   "execution_count": null,
   "metadata": {},
   "outputs": [],
   "source": [
    "background = np.ones((80,200,3) , dtype = 'uint8') * 200\n",
    "background = Image.fromarray(background)"
   ]
  },
  {
   "cell_type": "code",
   "execution_count": null,
   "metadata": {},
   "outputs": [],
   "source": [
    "draw = ImageDraw.Draw(background)"
   ]
  },
  {
   "cell_type": "code",
   "execution_count": null,
   "metadata": {},
   "outputs": [],
   "source": [
    "background"
   ]
  },
  {
   "cell_type": "code",
   "execution_count": null,
   "metadata": {},
   "outputs": [],
   "source": [
    "draw"
   ]
  },
  {
   "cell_type": "code",
   "execution_count": null,
   "metadata": {},
   "outputs": [],
   "source": [
    "font = ImageFont.truetype('Redressed-Regular.ttf', size=45)"
   ]
  },
  {
   "cell_type": "code",
   "execution_count": null,
   "metadata": {},
   "outputs": [],
   "source": [
    "font"
   ]
  },
  {
   "cell_type": "code",
   "execution_count": null,
   "metadata": {},
   "outputs": [],
   "source": [
    "message = \"سلام\"\n",
    "color = (0,0,128)"
   ]
  },
  {
   "cell_type": "code",
   "execution_count": null,
   "metadata": {},
   "outputs": [],
   "source": [
    "(x, y) = (30, 20)\n",
    "draw.text((x, y), message, fill=color, font=font, direction='rtl')"
   ]
  },
  {
   "cell_type": "code",
   "execution_count": null,
   "metadata": {
    "scrolled": true
   },
   "outputs": [],
   "source": [
    "background"
   ]
  },
  {
   "cell_type": "code",
   "execution_count": null,
   "metadata": {},
   "outputs": [],
   "source": []
  },
  {
   "cell_type": "markdown",
   "metadata": {},
   "source": [
    "# Persian"
   ]
  },
  {
   "cell_type": "code",
   "execution_count": null,
   "metadata": {},
   "outputs": [],
   "source": [
    "import numpy as np\n",
    "import matplotlib.pyplot as plt\n",
    "import PIL\n",
    "import arabic_reshaper\n",
    "from PIL import Image, ImageDraw, ImageFont\n",
    "from bidi.algorithm import get_display"
   ]
  },
  {
   "cell_type": "code",
   "execution_count": null,
   "metadata": {},
   "outputs": [],
   "source": [
    "background = np.ones((80,400,3) , dtype = 'uint8') * (0,50,50)\n",
    "background = background.astype('uint8')\n",
    "background = Image.fromarray(background)\n",
    "draw = ImageDraw.Draw(background)\n",
    "font = ImageFont.truetype('fonts/B Ziba_0.ttf', size=60)\n",
    "background"
   ]
  },
  {
   "cell_type": "code",
   "execution_count": null,
   "metadata": {},
   "outputs": [],
   "source": [
    "raw_test = '123/456'"
   ]
  },
  {
   "cell_type": "code",
   "execution_count": null,
   "metadata": {},
   "outputs": [],
   "source": [
    "reshaped_text = arabic_reshaper.reshape(raw_test)\n",
    "bidi_text = get_display(reshaped_text)\n",
    "color = (0,0,128)\n",
    "(x, y) = (200, 40)\n",
    "draw.text((x, y), bidi_text, fill=color, font=font, anchor='mm')\n",
    "background"
   ]
  },
  {
   "cell_type": "code",
   "execution_count": null,
   "metadata": {},
   "outputs": [],
   "source": []
  },
  {
   "cell_type": "markdown",
   "metadata": {},
   "source": [
    "# Dataset Creation"
   ]
  },
  {
   "cell_type": "code",
   "execution_count": 25,
   "metadata": {},
   "outputs": [],
   "source": [
    "import numpy as np\n",
    "import PIL\n",
    "import arabic_reshaper\n",
    "from PIL import Image, ImageDraw, ImageFont, ImageFilter\n",
    "from bidi.algorithm import get_display\n",
    "import os\n",
    "from glob import glob\n",
    "import cv2\n",
    "from tqdm import tqdm\n",
    "import sys\n",
    "from time import time as t\n",
    "if 'ipykernel' in sys.modules:\n",
    "    from tqdm.notebook import tqdm\n",
    "    %matplotlib inline\n",
    "else:\n",
    "    from qtdm import tqdm"
   ]
  },
  {
   "cell_type": "code",
   "execution_count": 13,
   "metadata": {},
   "outputs": [],
   "source": [
    "def create_word(word, font_name, bg = None , size = 60 , word_loc = (0,0), color = None , bg_size = (100,300), bg_color = (200)):\n",
    "    if bg is None:\n",
    "        bg_size = np.array(bg_size).astype(int)\n",
    "        background = np.ones((*bg_size,3) , dtype = 'uint8') * bg_color\n",
    "        background = background.astype('uint8')\n",
    "        background = Image.fromarray(background)\n",
    "    else : background = bg\n",
    "    \n",
    "    if color is None:\n",
    "        color = tuple(np.random.randint(low = 0, high = 70, size = 3))\n",
    "    \n",
    "    draw = ImageDraw.Draw(background)\n",
    "    font = ImageFont.truetype(font_name, size=size)\n",
    "    reshaped_text = arabic_reshaper.reshape(word)\n",
    "    bidi_text = get_display(reshaped_text)\n",
    "    x, y = bg_size[1]//2 , (bg_size[0]) //2\n",
    "    x = x + int(np.random.randint(low = 0, high = bg_size[1]//15, size = 1))\n",
    "    y = y - int(np.random.randint(low = bg_size[1]//35, high = bg_size[1]//20, size = 1))\n",
    "    draw.text((x, y), bidi_text, fill=color, font=font, anchor = 'mm')\n",
    "    return background"
   ]
  },
  {
   "cell_type": "code",
   "execution_count": 14,
   "metadata": {},
   "outputs": [],
   "source": [
    "def get_all_fonts(fonts_dir):\n",
    "    fonts_names = glob(os.path.join(fonts_dir , '*ttf'))\n",
    "#     print(f'Found {len(fonts_names)} fonts in the given directory')\n",
    "    return fonts_names"
   ]
  },
  {
   "cell_type": "code",
   "execution_count": 15,
   "metadata": {},
   "outputs": [],
   "source": [
    "def get_all_bgs(bgs_dir):\n",
    "    bgs_names = glob(os.path.join(bgs_dir , '*'))\n",
    "#     print(f'Found {len(bgs_names)} backgrounds in the given directory')\n",
    "    all_imgs = []\n",
    "    for bg_name in bgs_names:\n",
    "        bg = cv2.imread(bg_name)[...,::-1]\n",
    "        all_imgs.append(bg)\n",
    "    return all_imgs"
   ]
  },
  {
   "cell_type": "code",
   "execution_count": 16,
   "metadata": {},
   "outputs": [],
   "source": [
    "def get_all_words(corpuses_dir):\n",
    "    all_words = []\n",
    "    corpus_names = glob(os.path.join(corpuses_dir , '*txt'))\n",
    "    print(f'There are {len(corpus_names)} text files in the corpus')\n",
    "    for txt_file in corpus_names:\n",
    "        file = open(txt_file)\n",
    "        lines = file.read()\n",
    "        all_words.extend(lines.split('\\n'))\n",
    "#     print(f'Found {len(all_words)} words in the dataset.')\n",
    "    return all_words"
   ]
  },
  {
   "cell_type": "code",
   "execution_count": 17,
   "metadata": {},
   "outputs": [],
   "source": [
    "def img_to_bbx(img):\n",
    "    img = np.array(img)\n",
    "    args = np.argwhere(img[...,0]>0)\n",
    "    y_max, x_max = np.max(args,0)\n",
    "    y_min, x_min = np.min(args,0)\n",
    "#     plt.imshow(img[y_min:y_max, x_min:x_max,:])\n",
    "    bbx = (x_min,x_max), (y_min, y_max)\n",
    "    sizes = np.array((y_max- y_min, x_max - x_min))\n",
    "    return bbx, sizes"
   ]
  },
  {
   "cell_type": "code",
   "execution_count": 18,
   "metadata": {},
   "outputs": [],
   "source": [
    "def get_rect_size_for_word(word, font, size):\n",
    "    img = create_word(word, font_name = font, size = size, color = (255,255,255), \n",
    "                bg_size = (400,700), bg_color = (0,0,0) )\n",
    "    return img_to_bbx(img)"
   ]
  },
  {
   "cell_type": "code",
   "execution_count": 19,
   "metadata": {},
   "outputs": [],
   "source": [
    "def resize_bg(backgroud_img, target_size):\n",
    "    bg  = backgroud_img.copy()\n",
    "    y,x = target_size.astype(int)\n",
    "    bg  = cv2.resize(bg, (x,y))\n",
    "    bg = Image.fromarray(bg)\n",
    "    return bg"
   ]
  },
  {
   "cell_type": "code",
   "execution_count": 20,
   "metadata": {},
   "outputs": [],
   "source": [
    "def add_random_noise(img, p = 0.5):\n",
    "    filters = [ImageFilter.GaussianBlur(), ImageFilter.SHARPEN()]\n",
    "    epsilon = np.random.rand(1)\n",
    "    if epsilon < 0.5:\n",
    "        epsilon = int(epsilon * len(filters))\n",
    "        f = filters[epsilon]\n",
    "        if f.name == 'GaussianBlur':\n",
    "            f.radius = np.random.rand(1) * 1.5\n",
    "        img = img.filter(f)\n",
    "    return img"
   ]
  },
  {
   "cell_type": "code",
   "execution_count": 28,
   "metadata": {},
   "outputs": [],
   "source": [
    "def create_data_set(words, fonts, bgs ,size = None, noise_p = 0.5 ,output_dir = 'outputs/'):\n",
    "    t1 = t()\n",
    "    counter = 0\n",
    "    os.makedirs(output_dir , exist_ok = True)\n",
    "    print('Output directory craeted.')\n",
    "    assert isinstance(words, str) or isinstance(all_words, list) , \"words argument should be either list or str\"\n",
    "    if isinstance(words, str):\n",
    "        words = get_all_words(words)\n",
    "    assert isinstance(fonts, str) or isinstance(fonts, list)  , \"fonts argument should be either list or str\"\n",
    "    if isinstance(fonts, str):\n",
    "        fonts = get_all_fonts(fonts)\n",
    "    assert isinstance(bgs, str) or isinstance(bgs, list)  , \"bgs argument should be either list or str\"\n",
    "    if isinstance(bgs, str):\n",
    "        bgs = get_all_bgs(bgs)\n",
    "    print(f'Found {len(words)} words.')\n",
    "    print(f'Found {len(fonts)} fonts.')\n",
    "    print(f'Found {len(bgs)} background images.')\n",
    "    print(f'In total {len(words) * len(fonts) * len(bgs)} Images will be created')\n",
    "    for w_idx, word in enumerate(tqdm(words)):\n",
    "        for f_idx, font in enumerate(fonts):\n",
    "            for bg_idx, bg in enumerate(bgs):\n",
    "                if isinstance(size, int):\n",
    "                    pass\n",
    "                elif isinstance(size, list):\n",
    "                    size = np.random.choice(size)\n",
    "                elif size == 'random' or size is None:\n",
    "                    size = int(np.random.randint(110,150,1))\n",
    "                    \n",
    "                bbx, sizes = get_rect_size_for_word(word, font, size)\n",
    "                bg = resize_bg(bg, 1.2 * sizes)\n",
    "                img = create_word(word, font_name= font,bg = bg, bg_size = 1.2*sizes, size= int(size//1.2))\n",
    "                img = add_random_noise(img, p = noise_p)\n",
    "                img.save(os.path.join(output_dir , f'w_{w_idx:04d}f_{f_idx:04d}b_{bg_idx:04d}.png' ))\n",
    "                counter += 1\n",
    "    print(f'{counter} Images created')\n",
    "    t2 = t()\n",
    "    print(f'Time Taken : {np.round(t2-t1,2)} second')"
   ]
  },
  {
   "cell_type": "code",
   "execution_count": 29,
   "metadata": {
    "scrolled": true
   },
   "outputs": [
    {
     "name": "stdout",
     "output_type": "stream",
     "text": [
      "Output directory craeted.\n",
      "There are 2 text files in the corpus\n",
      "Found 10 words.\n",
      "Found 2 fonts.\n",
      "Found 6 background images.\n",
      "In total 120 Images will be created\n"
     ]
    },
    {
     "data": {
      "application/vnd.jupyter.widget-view+json": {
       "model_id": "314accf9105a418ea6017e78f8e96f5c",
       "version_major": 2,
       "version_minor": 0
      },
      "text/plain": [
       "HBox(children=(HTML(value=''), FloatProgress(value=0.0, max=10.0), HTML(value='')))"
      ]
     },
     "metadata": {},
     "output_type": "display_data"
    },
    {
     "name": "stdout",
     "output_type": "stream",
     "text": [
      "\n",
      "120 Images created\n",
      "Time Taken : 4.28 second\n"
     ]
    }
   ],
   "source": [
    "create_data_set('word_bank/','fonts/', 'backgrounds/', size = None)"
   ]
  },
  {
   "cell_type": "code",
   "execution_count": null,
   "metadata": {
    "scrolled": true
   },
   "outputs": [],
   "source": [
    "all_words = get_all_words('word_bank/')\n",
    "all_fonts = get_all_fonts('fonts/')\n",
    "all_bgs   = get_all_bgs('backgrounds/')"
   ]
  },
  {
   "cell_type": "code",
   "execution_count": null,
   "metadata": {},
   "outputs": [],
   "source": [
    "output_dir = 'outputs/'\n",
    "os.makedirs(output_dir , exist_ok = True)"
   ]
  },
  {
   "cell_type": "code",
   "execution_count": null,
   "metadata": {},
   "outputs": [],
   "source": [
    "np.random.choice([1,2,3])"
   ]
  },
  {
   "cell_type": "markdown",
   "metadata": {},
   "source": [
    "# Backgrounds"
   ]
  },
  {
   "cell_type": "code",
   "execution_count": null,
   "metadata": {},
   "outputs": [],
   "source": [
    "import seaborn as sns\n",
    "sns.heatmap(img_arr[...,0])"
   ]
  },
  {
   "cell_type": "code",
   "execution_count": null,
   "metadata": {
    "scrolled": true
   },
   "outputs": [],
   "source": [
    "plt.imshow(img_arr)"
   ]
  },
  {
   "cell_type": "code",
   "execution_count": null,
   "metadata": {},
   "outputs": [],
   "source": []
  },
  {
   "cell_type": "code",
   "execution_count": null,
   "metadata": {},
   "outputs": [],
   "source": [
    "from skimage import io\n",
    "from skimage import transform as tf\n",
    "afine_tf = tf.AffineTransform(shear=0.7)\n",
    "modified = tf.warp(img_arr, inverse_map = afine_tf)*255\n",
    "modified = modified.astype('uint8')\n",
    "plt.imshow(modified)"
   ]
  },
  {
   "cell_type": "code",
   "execution_count": null,
   "metadata": {},
   "outputs": [],
   "source": [
    "modified.shape"
   ]
  },
  {
   "cell_type": "code",
   "execution_count": null,
   "metadata": {},
   "outputs": [],
   "source": [
    "bg = np.ones((100,150,3)) * (250,250,250)\n",
    "bg = bg.astype('uint8')\n",
    "# plt.imshow(bg)"
   ]
  },
  {
   "cell_type": "code",
   "execution_count": null,
   "metadata": {},
   "outputs": [],
   "source": [
    "np.unique(bg)"
   ]
  },
  {
   "cell_type": "code",
   "execution_count": null,
   "metadata": {},
   "outputs": [],
   "source": [
    "modified = modified.astype('uint8')\n",
    "modified[modified == [0,0,0]] = bg[img_arr == [0,0,0]] \n",
    "modified = modified.astype('uint8')"
   ]
  },
  {
   "cell_type": "code",
   "execution_count": null,
   "metadata": {},
   "outputs": [],
   "source": [
    "bg[modified != [0,0,0]] = modified[modified != [0,0,0]] \n",
    "bg = bg.astype('uint8')"
   ]
  },
  {
   "cell_type": "code",
   "execution_count": null,
   "metadata": {},
   "outputs": [],
   "source": [
    "plt.imshow(modified)"
   ]
  },
  {
   "cell_type": "code",
   "execution_count": null,
   "metadata": {},
   "outputs": [],
   "source": [
    "plt.imshow(bg + modified)"
   ]
  },
  {
   "cell_type": "code",
   "execution_count": null,
   "metadata": {},
   "outputs": [],
   "source": []
  }
 ],
 "metadata": {
  "kernelspec": {
   "display_name": "Python 3",
   "language": "python",
   "name": "python3"
  },
  "language_info": {
   "codemirror_mode": {
    "name": "ipython",
    "version": 3
   },
   "file_extension": ".py",
   "mimetype": "text/x-python",
   "name": "python",
   "nbconvert_exporter": "python",
   "pygments_lexer": "ipython3",
   "version": "3.8.5"
  }
 },
 "nbformat": 4,
 "nbformat_minor": 4
}
