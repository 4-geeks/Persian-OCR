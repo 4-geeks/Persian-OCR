{
 "cells": [
  {
   "cell_type": "markdown",
   "metadata": {},
   "source": [
    "# English"
   ]
  },
  {
   "cell_type": "code",
   "execution_count": 36,
   "metadata": {},
   "outputs": [],
   "source": [
    "from PIL import Image, ImageDraw, ImageFont\n",
    "import numpy as np\n",
    "import matplotlib.pyplot as plt"
   ]
  },
  {
   "cell_type": "code",
   "execution_count": 37,
   "metadata": {},
   "outputs": [],
   "source": [
    "background = np.ones((80,200,3) , dtype = 'uint8') * 200\n",
    "background = Image.fromarray(background)"
   ]
  },
  {
   "cell_type": "code",
   "execution_count": 38,
   "metadata": {},
   "outputs": [],
   "source": [
    "draw = ImageDraw.Draw(background)"
   ]
  },
  {
   "cell_type": "code",
   "execution_count": 39,
   "metadata": {},
   "outputs": [
    {
     "data": {
      "image/png": "[encoded data removed]",
      "text/plain": [
       "<PIL.Image.Image image mode=RGB size=200x80 at 0x7F902180DEB0>"
      ]
     },
     "execution_count": 39,
     "metadata": {},
     "output_type": "execute_result"
    }
   ],
   "source": [
    "background"
   ]
  },
  {
   "cell_type": "code",
   "execution_count": 40,
   "metadata": {},
   "outputs": [
    {
     "data": {
      "text/plain": [
       "<PIL.ImageDraw.ImageDraw at 0x7f902180d940>"
      ]
     },
     "execution_count": 40,
     "metadata": {},
     "output_type": "execute_result"
    }
   ],
   "source": [
    "draw"
   ]
  },
  {
   "cell_type": "code",
   "execution_count": 41,
   "metadata": {},
   "outputs": [],
   "source": [
    "font = ImageFont.truetype('Redressed-Regular.ttf', size=45)"
   ]
  },
  {
   "cell_type": "code",
   "execution_count": 42,
   "metadata": {},
   "outputs": [
    {
     "data": {
      "text/plain": [
       "<PIL.ImageFont.FreeTypeFont at 0x7f902180c610>"
      ]
     },
     "execution_count": 42,
     "metadata": {},
     "output_type": "execute_result"
    }
   ],
   "source": [
    "font"
   ]
  },
  {
   "cell_type": "code",
   "execution_count": 43,
   "metadata": {},
   "outputs": [],
   "source": [
    "message = \"Hello!\"\n",
    "color = (0,0,128)"
   ]
  },
  {
   "cell_type": "code",
   "execution_count": 44,
   "metadata": {},
   "outputs": [],
   "source": [
    "(x, y) = (30, 20)\n",
    "draw.text((x, y), message, fill=color, font=font)"
   ]
  },
  {
   "cell_type": "code",
   "execution_count": 45,
   "metadata": {
    "scrolled": true
   },
   "outputs": [
    {
     "data": {
      "image/png": "[encoded data removed]",
      "text/plain": [
       "<PIL.Image.Image image mode=RGB size=200x80 at 0x7F902180DEB0>"
      ]
     },
     "execution_count": 45,
     "metadata": {},
     "output_type": "execute_result"
    }
   ],
   "source": [
    "background"
   ]
  },
  {
   "cell_type": "code",
   "execution_count": null,
   "metadata": {},
   "outputs": [],
   "source": []
  },
  {
   "cell_type": "markdown",
   "metadata": {},
   "source": [
    "# Persian"
   ]
  },
  {
   "cell_type": "code",
   "execution_count": 46,
   "metadata": {},
   "outputs": [],
   "source": [
    "import PIL\n",
    "import arabic_reshaper\n",
    "from PIL import Image, ImageDraw, ImageFont\n",
    "from bidi.algorithm import get_display"
   ]
  },
  {
   "cell_type": "code",
   "execution_count": 95,
   "metadata": {},
   "outputs": [],
   "source": [
    "background = np.ones((80,400,3) , dtype = 'uint8') * 200\n",
    "background = Image.fromarray(background)\n",
    "draw = ImageDraw.Draw(background)\n",
    "font = ImageFont.truetype('A Badkhat.ttf', size=60)"
   ]
  },
  {
   "cell_type": "code",
   "execution_count": 96,
   "metadata": {},
   "outputs": [],
   "source": [
    "raw_test = 'پروژه ی تشخیص متن فارسی'"
   ]
  },
  {
   "cell_type": "code",
   "execution_count": 97,
   "metadata": {},
   "outputs": [],
   "source": [
    "reshaped_text = arabic_reshaper.reshape(raw_test)\n",
    "bidi_text = get_display(reshaped_text)\n",
    "color = (0,0,128)\n",
    "(x, y) = (0, 0)\n",
    "draw.text((x, y), bidi_text, fill=color, font=font)"
   ]
  },
  {
   "cell_type": "code",
   "execution_count": 98,
   "metadata": {},
   "outputs": [
    {
     "data": {
      "image/png": "[encoded data removed]",
      "text/plain": [
       "<PIL.Image.Image image mode=RGB size=400x80 at 0x7F902190BE20>"
      ]
     },
     "execution_count": 98,
     "metadata": {},
     "output_type": "execute_result"
    }
   ],
   "source": [
    "background"
   ]
  },
  {
   "cell_type": "code",
   "execution_count": null,
   "metadata": {},
   "outputs": [],
   "source": []
  },
  {
   "cell_type": "markdown",
   "metadata": {},
   "source": [
    "# Dataset Creation"
   ]
  },
  {
   "cell_type": "code",
   "execution_count": 99,
   "metadata": {},
   "outputs": [],
   "source": [
    "import PIL\n",
    "import arabic_reshaper\n",
    "from PIL import Image, ImageDraw, ImageFont\n",
    "from bidi.algorithm import get_display\n",
    "import os\n",
    "from glob import glob"
   ]
  },
  {
   "cell_type": "code",
   "execution_count": 101,
   "metadata": {},
   "outputs": [],
   "source": [
    "fonts_names = glob('fonts/*ttf')\n",
    "corpus_names = glob('word_bank/*txt')"
   ]
  },
  {
   "cell_type": "code",
   "execution_count": 151,
   "metadata": {},
   "outputs": [],
   "source": [
    "def create_word(word, font_name, bg = None , size = 60 , word_loc = (0,0), color = (0,0,128) , bg_size = (80,400), bg_color = (200)):\n",
    "    if bg is None:\n",
    "        background = np.ones((*bg_size,3) , dtype = 'uint8') * bg_color\n",
    "        background = background.astype('uint8')\n",
    "        background = Image.fromarray(background)\n",
    "    else : bg = Image.open(bg)\n",
    "    \n",
    "    draw = ImageDraw.Draw(background)\n",
    "    font = ImageFont.truetype(font_name, size=size)\n",
    "    reshaped_text = arabic_reshaper.reshape(word)\n",
    "    bidi_text = get_display(reshaped_text)\n",
    "    color = (0,0,128)\n",
    "    x, y = word_loc\n",
    "    draw.text((x, y), bidi_text, fill=color, font=font)\n",
    "    return background"
   ]
  },
  {
   "cell_type": "code",
   "execution_count": 179,
   "metadata": {},
   "outputs": [],
   "source": [
    "def get_all_fonts(fonts_dir):\n",
    "    fonts_names = glob(os.path.join(fonts_dir , '*ttf'))\n",
    "    print(f'Found {len(fonts_names)} fonts in the given directory')\n",
    "    return fonts_names"
   ]
  },
  {
   "cell_type": "code",
   "execution_count": 180,
   "metadata": {},
   "outputs": [],
   "source": [
    "def get_all_words(corpuses_dir):\n",
    "    all_words = []\n",
    "    corpus_names = glob(os.path.join(corpuses_dir , '*txt'))\n",
    "    print(f'There are {len(corpus_names)} text files in the corpus')\n",
    "    for txt_file in corpus_names:\n",
    "        file = open(txt_file)\n",
    "        lines = file.read()\n",
    "        all_words.extend(lines.split('\\n'))\n",
    "    print(f'Found {len(all_words)} words in the dataset.')\n",
    "    return all_words"
   ]
  },
  {
   "cell_type": "code",
   "execution_count": 181,
   "metadata": {
    "scrolled": true
   },
   "outputs": [
    {
     "name": "stdout",
     "output_type": "stream",
     "text": [
      "There are 2 text files in the corpus\n",
      "Found 10 words in the dataset.\n",
      "Found 2 fonts in the given directory\n"
     ]
    }
   ],
   "source": [
    "all_words = get_all_words('word_bank/')\n",
    "all_fonts = get_all_fonts('fonts/')"
   ]
  },
  {
   "cell_type": "code",
   "execution_count": 182,
   "metadata": {},
   "outputs": [],
   "source": [
    "output_dir = 'outputs/'\n",
    "os.makedirs(output_dir , exist_ok = True)"
   ]
  },
  {
   "cell_type": "code",
   "execution_count": 193,
   "metadata": {},
   "outputs": [],
   "source": [
    "counter = 0\n",
    "for w_idx, word in enumerate(all_words):\n",
    "    for f_idx, font in enumerate(all_fonts):\n",
    "        img = create_word(word, font_name= font)\n",
    "        img.save(os.path.join(output_dir , f'w_{w_idx:04d}f_{f_idx:04d}.png' ))\n",
    "#         img.save(os.path.join(output_dir , f'{counter:03d}.png' ))\n",
    "        counter += 1"
   ]
  },
  {
   "cell_type": "code",
   "execution_count": 184,
   "metadata": {},
   "outputs": [
    {
     "data": {
      "image/png": "[encoded data removed]",
      "text/plain": [
       "<PIL.Image.Image image mode=RGB size=400x80 at 0x7F9021552310>"
      ]
     },
     "execution_count": 184,
     "metadata": {},
     "output_type": "execute_result"
    }
   ],
   "source": []
  },
  {
   "cell_type": "code",
   "execution_count": 190,
   "metadata": {},
   "outputs": [
    {
     "data": {
      "text/plain": [
       "'05'"
      ]
     },
     "execution_count": 190,
     "metadata": {},
     "output_type": "execute_result"
    }
   ],
   "source": [
    "f'{5:02d}'"
   ]
  },
  {
   "cell_type": "code",
   "execution_count": null,
   "metadata": {},
   "outputs": [],
   "source": []
  }
 ],
 "metadata": {
  "kernelspec": {
   "display_name": "Python 3",
   "language": "python",
   "name": "python3"
  },
  "language_info": {
   "codemirror_mode": {
    "name": "ipython",
    "version": 3
   },
   "file_extension": ".py",
   "mimetype": "text/x-python",
   "name": "python",
   "nbconvert_exporter": "python",
   "pygments_lexer": "ipython3",
   "version": "3.8.5"
  }
 },
 "nbformat": 4,
 "nbformat_minor": 4
}
